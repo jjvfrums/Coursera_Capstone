{
    "nbformat_minor": 1, 
    "cells": [
        {
            "source": "# Cuisine Vs Location", 
            "cell_type": "markdown", 
            "metadata": {}
        }, 
        {
            "source": "This note book contains the code that supports the report - Cuisine Vs Location", 
            "cell_type": "markdown", 
            "metadata": {}
        }, 
        {
            "source": "Installing all the libraries", 
            "cell_type": "markdown", 
            "metadata": {}
        }, 
        {
            "execution_count": 1, 
            "cell_type": "code", 
            "metadata": {}, 
            "outputs": [
                {
                    "output_type": "stream", 
                    "name": "stdout", 
                    "text": "Fetching package metadata .............\nSolving package specifications: .\n\nPackage plan for installation in environment /opt/conda/envs/DSX-Python35:\n\nThe following packages will be UPDATED:\n\n    beautifulsoup4: 4.6.0-py35h442a8c9_1 --> 4.6.3-py35_0 conda-forge\n\nbeautifulsoup4 100% |################################| Time: 0:00:00  37.36 MB/s\nFetching package metadata .............\nSolving package specifications: .\n\nPackage plan for installation in environment /opt/conda/envs/DSX-Python35:\n\nThe following packages will be UPDATED:\n\n    libxml2: 2.9.4-h6b072ca_5     --> 2.9.8-h422b904_2     conda-forge\n    libxslt: 1.1.29-hcf9102b_5    --> 1.1.32-h88dbc4e_2    conda-forge\n    lxml:    4.1.0-py35ha401a81_0 --> 4.2.5-py35hc9114bc_0 conda-forge\n\nlibxml2-2.9.8- 100% |################################| Time: 0:00:00  15.27 MB/s\nlibxslt-1.1.32 100% |################################| Time: 0:00:00  70.00 MB/s\nlxml-4.2.5-py3 100% |################################| Time: 0:00:00  24.48 MB/s\nFetching package metadata .............\nSolving package specifications: .\n\nPackage plan for installation in environment /opt/conda/envs/DSX-Python35:\n\nThe following packages will be UPDATED:\n\n    requests: 2.18.4-py35hb9e6ad1_1 --> 2.19.1-py35_1 conda-forge\n\nrequests-2.19. 100% |################################| Time: 0:00:00  36.33 MB/s\nFetching package metadata .............\nSolving package specifications: .\n\nPackage plan for installation in environment /opt/conda/envs/DSX-Python35:\n\nThe following NEW packages will be INSTALLED:\n\n    geocoder:   1.38.1-py_0  conda-forge\n    orderedset: 2.0-py35_0   conda-forge\n    ratelim:    0.1.6-py35_0 conda-forge\n\norderedset-2.0 100% |################################| Time: 0:00:00  32.93 MB/s\nratelim-0.1.6- 100% |################################| Time: 0:00:00  12.33 MB/s\ngeocoder-1.38. 100% |################################| Time: 0:00:00  45.64 MB/s\nFetching package metadata .............\nSolving package specifications: .\n\nPackage plan for installation in environment /opt/conda/envs/DSX-Python35:\n\nThe following NEW packages will be INSTALLED:\n\n    geographiclib: 1.49-py_0   conda-forge\n    geopy:         1.18.1-py_0 conda-forge\n\ngeographiclib- 100% |################################| Time: 0:00:00  23.78 MB/s\ngeopy-1.18.1-p 100% |################################| Time: 0:00:00  36.85 MB/s\nFetching package metadata .............\nSolving package specifications: .\n\nPackage plan for installation in environment /opt/conda/envs/DSX-Python35:\n\nThe following NEW packages will be INSTALLED:\n\n    altair:  2.2.2-py35_1 conda-forge\n    branca:  0.3.1-py_0   conda-forge\n    folium:  0.5.0-py_0   conda-forge\n    vincent: 0.4.4-py_1   conda-forge\n\naltair-2.2.2-p 100% |################################| Time: 0:00:00  53.54 MB/s\nbranca-0.3.1-p 100% |################################| Time: 0:00:00  35.61 MB/s\nvincent-0.4.4- 100% |################################| Time: 0:00:00  40.09 MB/s\nfolium-0.5.0-p 100% |################################| Time: 0:00:00  49.02 MB/s\n"
                }
            ], 
            "source": "!conda install -c conda-forge beautifulsoup4 --yes\n!conda install -c conda-forge lxml --yes\n!conda install -c conda-forge requests --yes\n!conda install -c conda-forge geocoder --yes\n!conda install -c conda-forge geopy --yes\n!conda install -c conda-forge folium=0.5.0 --yes"
        }, 
        {
            "source": "Importing the necessary modules from each of the libraries", 
            "cell_type": "markdown", 
            "metadata": {}
        }, 
        {
            "execution_count": 2, 
            "cell_type": "code", 
            "metadata": {}, 
            "outputs": [], 
            "source": "# importing necessary modules\nimport requests\nimport pandas as pd\nimport numpy as np\nimport lxml\nimport matplotlib.cm as cm\nimport matplotlib.colors as colors\nimport folium \n\n# libraries for displaying images\nfrom IPython.display import Image \nfrom IPython.core.display import HTML \n\nfrom sklearn.cluster import KMeans\nfrom bs4 import BeautifulSoup\nfrom pandas.io.json import json_normalize\nfrom geopy.geocoders import Nominatim"
        }, 
        {
            "source": "Reading the postal code information from Wikipedia page", 
            "cell_type": "markdown", 
            "metadata": {}
        }, 
        {
            "execution_count": 3, 
            "cell_type": "code", 
            "metadata": {}, 
            "outputs": [], 
            "source": "# url for the wikipedia page\nurl = 'https://en.wikipedia.org/wiki/List_of_postal_codes_of_Canada:_M'\nsource = requests.get(url).text\n\n# cretaing a beautifulsoup obect\nsoup = BeautifulSoup(source,'lxml')\n\n# creating & loading data into dataframe\npcode_df = pd.DataFrame()\ni = 0\nj = 0\ntable_pcode = soup.find('table')\nfor table_data in table_pcode.find_all('td'):\n    col_data = table_data.text\n    pcode_df.loc[i,j] = col_data\n    j = j + 1\n    if (j==3):\n        i = i + 1\n        j = 0"
        }, 
        {
            "source": "Modifying the data frame so that it can be used further in the code", 
            "cell_type": "markdown", 
            "metadata": {}
        }, 
        {
            "execution_count": 4, 
            "cell_type": "code", 
            "metadata": {}, 
            "outputs": [], 
            "source": "# adding column names to the data frame\npcode_df.columns = ('PostalCode','Borough','Neighborhood')\n\n# removing the \\n haracter from the end of the string\npcode_df['Neighborhood'] = pcode_df['Neighborhood'].str.slice(stop = -1)\n\n# removing the rows with borough value as not assigned\npcode_df=pcode_df[pcode_df.Borough != 'Not assigned']\npcode_df = pcode_df.reset_index(drop=True)"
        }, 
        {
            "source": "Concatenating the neighborhood values and also modifying the resulting value", 
            "cell_type": "markdown", 
            "metadata": {}
        }, 
        {
            "execution_count": 5, 
            "cell_type": "code", 
            "metadata": {}, 
            "outputs": [], 
            "source": "# concatenating neighborhoods with same Postal Code\nnew_df = pd.DataFrame()\nnew_df = pcode_df.groupby('PostalCode').agg({'Neighborhood':lambda x: tuple(x)})\nnew_df.reset_index(inplace=True)\n\n# converting the tuple into a string data type\nnew_df['Neighborhood'] = new_df['Neighborhood'].astype(str)\n#removing the end and begenning braces and the single quotes\nnew_df['Neighborhood'] = new_df['Neighborhood'].str.slice(stop = -2)\nnew_df['Neighborhood'] = new_df['Neighborhood'].str.slice(start = 2)\nnew_df['Neighborhood'] = new_df['Neighborhood'].str.replace(\"'\",\"\")"
        }, 
        {
            "source": "Creating a data frame with unique postal code and borough information", 
            "cell_type": "markdown", 
            "metadata": {}
        }, 
        {
            "execution_count": 6, 
            "cell_type": "code", 
            "metadata": {}, 
            "outputs": [], 
            "source": "df_borough = pcode_df\ndf_borough = df_borough.drop('Neighborhood',axis=1)\ndf_borough.drop_duplicates(inplace=True)"
        }, 
        {
            "source": "Creation of the final data frame by combining two intermediate data frames using Postal code as key", 
            "cell_type": "markdown", 
            "metadata": {}
        }, 
        {
            "execution_count": 7, 
            "cell_type": "code", 
            "metadata": {}, 
            "outputs": [], 
            "source": "final_pcode_df = pd.DataFrame()\nfinal_pcode_df = df_borough.merge(new_df, on='PostalCode')"
        }, 
        {
            "source": "Updating the data for rows missing Neighborhood values", 
            "cell_type": "markdown", 
            "metadata": {}
        }, 
        {
            "execution_count": 8, 
            "cell_type": "code", 
            "metadata": {}, 
            "outputs": [
                {
                    "execution_count": 8, 
                    "metadata": {}, 
                    "data": {
                        "text/html": "<div>\n<style scoped>\n    .dataframe tbody tr th:only-of-type {\n        vertical-align: middle;\n    }\n\n    .dataframe tbody tr th {\n        vertical-align: top;\n    }\n\n    .dataframe thead th {\n        text-align: right;\n    }\n</style>\n<table border=\"1\" class=\"dataframe\">\n  <thead>\n    <tr style=\"text-align: right;\">\n      <th></th>\n      <th>PostalCode</th>\n      <th>Borough</th>\n      <th>Neighborhood</th>\n    </tr>\n  </thead>\n  <tbody>\n    <tr>\n      <th>0</th>\n      <td>M3A</td>\n      <td>North York</td>\n      <td>Parkwoods</td>\n    </tr>\n    <tr>\n      <th>1</th>\n      <td>M4A</td>\n      <td>North York</td>\n      <td>Victoria Village</td>\n    </tr>\n    <tr>\n      <th>2</th>\n      <td>M5A</td>\n      <td>Downtown Toronto</td>\n      <td>Harbourfront, Regent Park</td>\n    </tr>\n    <tr>\n      <th>3</th>\n      <td>M6A</td>\n      <td>North York</td>\n      <td>Lawrence Heights, Lawrence Manor</td>\n    </tr>\n    <tr>\n      <th>4</th>\n      <td>M7A</td>\n      <td>Queen's Park</td>\n      <td>Queen's Park</td>\n    </tr>\n  </tbody>\n</table>\n</div>", 
                        "text/plain": "  PostalCode           Borough                      Neighborhood\n0        M3A        North York                         Parkwoods\n1        M4A        North York                  Victoria Village\n2        M5A  Downtown Toronto         Harbourfront, Regent Park\n3        M6A        North York  Lawrence Heights, Lawrence Manor\n4        M7A      Queen's Park                      Queen's Park"
                    }, 
                    "output_type": "execute_result"
                }
            ], 
            "source": "loc_Neigh_NA = final_pcode_df.Neighborhood == 'Not assigned'\nfinal_pcode_df.loc[loc_Neigh_NA,'Neighborhood'] = final_pcode_df.loc[loc_Neigh_NA,'Borough']\nfinal_pcode_df.head()"
        }, 
        {
            "execution_count": 9, 
            "cell_type": "code", 
            "metadata": {}, 
            "outputs": [
                {
                    "output_type": "stream", 
                    "name": "stdout", 
                    "text": "Shape of the Final DataFrame (103, 3)\n"
                }
            ], 
            "source": "# shape of the final dataframe\nprint('Shape of the Final DataFrame',final_pcode_df.shape)"
        }, 
        {
            "source": "Reading the csv file with latitude and longitude value, modifying the column names and merge with the postal code data frame", 
            "cell_type": "markdown", 
            "metadata": {}
        }, 
        {
            "execution_count": 10, 
            "cell_type": "code", 
            "metadata": {}, 
            "outputs": [
                {
                    "execution_count": 10, 
                    "metadata": {}, 
                    "data": {
                        "text/html": "<div>\n<style scoped>\n    .dataframe tbody tr th:only-of-type {\n        vertical-align: middle;\n    }\n\n    .dataframe tbody tr th {\n        vertical-align: top;\n    }\n\n    .dataframe thead th {\n        text-align: right;\n    }\n</style>\n<table border=\"1\" class=\"dataframe\">\n  <thead>\n    <tr style=\"text-align: right;\">\n      <th></th>\n      <th>PostalCode</th>\n      <th>Borough</th>\n      <th>Neighborhood</th>\n      <th>Latitude</th>\n      <th>Longitude</th>\n    </tr>\n  </thead>\n  <tbody>\n    <tr>\n      <th>0</th>\n      <td>M3A</td>\n      <td>North York</td>\n      <td>Parkwoods</td>\n      <td>43.753259</td>\n      <td>-79.329656</td>\n    </tr>\n    <tr>\n      <th>1</th>\n      <td>M4A</td>\n      <td>North York</td>\n      <td>Victoria Village</td>\n      <td>43.725882</td>\n      <td>-79.315572</td>\n    </tr>\n  </tbody>\n</table>\n</div>", 
                        "text/plain": "  PostalCode     Borough      Neighborhood   Latitude  Longitude\n0        M3A  North York         Parkwoods  43.753259 -79.329656\n1        M4A  North York  Victoria Village  43.725882 -79.315572"
                    }, 
                    "output_type": "execute_result"
                }
            ], 
            "source": "# reading the csv file with latitude and longitude value\nlat_long_df = pd.read_csv('http://cocl.us/Geospatial_data')\n# modify column names inorder to perform the merge\nlat_long_df.columns = ('PostalCode','Latitude','Longitude')\n# merging data to create the new data set with latitude and longitude data\nfinal_lat_long_df = final_pcode_df.merge(lat_long_df , on='PostalCode')\nfinal_lat_long_df.head(2)"
        }, 
        {
            "execution_count": 11, 
            "cell_type": "code", 
            "metadata": {}, 
            "outputs": [
                {
                    "execution_count": 11, 
                    "metadata": {}, 
                    "data": {
                        "text/plain": "(103, 5)"
                    }, 
                    "output_type": "execute_result"
                }
            ], 
            "source": "final_lat_long_df.shape"
        }, 
        {
            "source": "Initializing Foursquare Credentials", 
            "cell_type": "markdown", 
            "metadata": {}
        }, 
        {
            "execution_count": 13, 
            "cell_type": "code", 
            "metadata": {}, 
            "outputs": [], 
            "source": "# The code was removed by Watson Studio for sharing."
        }, 
        {
            "source": "Creating a function to retrive venue information from Forsquare ", 
            "cell_type": "markdown", 
            "metadata": {}
        }, 
        {
            "execution_count": 14, 
            "cell_type": "code", 
            "metadata": {}, 
            "outputs": [], 
            "source": "def getNearbyVenues(names, latitudes, longitudes,search_query='restaurant',radius=500):\n    \n    neigh_venues_list=pd.DataFrame(columns=('Neighborhood','Neigh_Latitude','Neigh_Longitude','ID','Venue','Venue_Latitude', \\\n                  'Venue_Longitude','Venue_Category'))\n    j = 0\n    if (neigh_venues_list.shape[0] == 0):\n        i = 0\n    else:\n        i = neigh_venues_list.shape[0]\n    for name, lat, lng in zip(names, latitudes, longitudes):\n        # create the API request URL\n        url ='https://api.foursquare.com/v2/venues/search?client_id={}&client_secret={}&ll={},{}&v={}&query={}&radius={}&limit={}'.format(            \n            CLIENT_ID,\n            CLIENT_SECRET,            \n            lat, \n            lng,\n            VERSION,\n            search_query,\n            radius, \n            50)\n        # make the GET request\n        results = requests.get(url).json()[\"response\"]['venues']   \n        # store the relevant information for each nearby venue in adate frame\n        for v in results:\n            try:\n                neigh_venues_list.loc[i,'ID'] = v['id']\n                neigh_venues_list.loc[i,'Venue'] = v['name']\n                neigh_venues_list.loc[i,'Venue_Latitude'] = v['location']['lat']\n                neigh_venues_list.loc[i,'Venue_Longitude'] = v['location']['lng'] \n                neigh_venues_list.loc[i,'Venue_Category'] = v['categories'][0]['name']\n            except:  \n                neigh_venues_list.loc[i,'ID'] = np.nan\n                neigh_venues_list.loc[i,'Venue'] = np.nan\n                neigh_venues_list.loc[i,'Venue_Latitude'] = np.nan\n                neigh_venues_list.loc[i,'Venue_Longitude'] = np.nan\n                neigh_venues_list.loc[i,'Venue_Category'] = np.nan\n            neigh_venues_list.loc[i,'Neighborhood'] = names[j]\n            neigh_venues_list.loc[i,'Neigh_Latitude'] = latitudes[j]\n            neigh_venues_list.loc[i,'Neigh_Longitude'] = longitudes[j]\n            i = i + 1\n        j = j + 1\n    # return the data frame\n    return(neigh_venues_list)"
        }, 
        {
            "source": "Creating and storing the venues information returned by the user defined funtion", 
            "cell_type": "markdown", 
            "metadata": {}
        }, 
        {
            "execution_count": 15, 
            "cell_type": "code", 
            "metadata": {}, 
            "outputs": [
                {
                    "execution_count": 15, 
                    "metadata": {}, 
                    "data": {
                        "text/html": "<div>\n<style scoped>\n    .dataframe tbody tr th:only-of-type {\n        vertical-align: middle;\n    }\n\n    .dataframe tbody tr th {\n        vertical-align: top;\n    }\n\n    .dataframe thead th {\n        text-align: right;\n    }\n</style>\n<table border=\"1\" class=\"dataframe\">\n  <thead>\n    <tr style=\"text-align: right;\">\n      <th></th>\n      <th>Neighborhood</th>\n      <th>Neigh_Latitude</th>\n      <th>Neigh_Longitude</th>\n      <th>ID</th>\n      <th>Venue</th>\n      <th>Venue_Latitude</th>\n      <th>Venue_Longitude</th>\n      <th>Venue_Category</th>\n    </tr>\n  </thead>\n  <tbody>\n    <tr>\n      <th>0</th>\n      <td>Harbourfront, Regent Park</td>\n      <td>43.6543</td>\n      <td>-79.3606</td>\n      <td>4f872713e4b0abaa00979185</td>\n      <td>Site Of Great Canary Restaurant</td>\n      <td>43.6533</td>\n      <td>-79.3579</td>\n      <td>Breakfast Spot</td>\n    </tr>\n    <tr>\n      <th>1</th>\n      <td>Harbourfront, Regent Park</td>\n      <td>43.6543</td>\n      <td>-79.3606</td>\n      <td>5b9e897ac9a5170039679335</td>\n      <td>Ryan Restaurant</td>\n      <td>43.6557</td>\n      <td>-79.3641</td>\n      <td>Ethiopian Restaurant</td>\n    </tr>\n  </tbody>\n</table>\n</div>", 
                        "text/plain": "                Neighborhood Neigh_Latitude Neigh_Longitude  \\\n0  Harbourfront, Regent Park        43.6543        -79.3606   \n1  Harbourfront, Regent Park        43.6543        -79.3606   \n\n                         ID                            Venue Venue_Latitude  \\\n0  4f872713e4b0abaa00979185  Site Of Great Canary Restaurant        43.6533   \n1  5b9e897ac9a5170039679335                  Ryan Restaurant        43.6557   \n\n  Venue_Longitude        Venue_Category  \n0        -79.3579        Breakfast Spot  \n1        -79.3641  Ethiopian Restaurant  "
                    }, 
                    "output_type": "execute_result"
                }
            ], 
            "source": "toronto_venues = pd.DataFrame()\ntoronto_venues = getNearbyVenues(names=final_lat_long_df['Neighborhood'],\n                                   latitudes=final_lat_long_df['Latitude'],\n                                   longitudes=final_lat_long_df['Longitude']\n                                  )\ntoronto_venues.head(2)"
        }, 
        {
            "source": "Dropping any neighborhoods that do not have any restaurant", 
            "cell_type": "markdown", 
            "metadata": {}
        }, 
        {
            "execution_count": 16, 
            "cell_type": "code", 
            "metadata": {}, 
            "outputs": [
                {
                    "output_type": "stream", 
                    "name": "stdout", 
                    "text": "(559, 8)\n"
                }, 
                {
                    "execution_count": 16, 
                    "metadata": {}, 
                    "data": {
                        "text/html": "<div>\n<style scoped>\n    .dataframe tbody tr th:only-of-type {\n        vertical-align: middle;\n    }\n\n    .dataframe tbody tr th {\n        vertical-align: top;\n    }\n\n    .dataframe thead th {\n        text-align: right;\n    }\n</style>\n<table border=\"1\" class=\"dataframe\">\n  <thead>\n    <tr style=\"text-align: right;\">\n      <th></th>\n      <th>Neighborhood</th>\n      <th>Neigh_Latitude</th>\n      <th>Neigh_Longitude</th>\n      <th>ID</th>\n      <th>Venue</th>\n      <th>Venue_Latitude</th>\n      <th>Venue_Longitude</th>\n      <th>Venue_Category</th>\n    </tr>\n  </thead>\n  <tbody>\n    <tr>\n      <th>0</th>\n      <td>Harbourfront, Regent Park</td>\n      <td>43.6543</td>\n      <td>-79.3606</td>\n      <td>4f872713e4b0abaa00979185</td>\n      <td>Site Of Great Canary Restaurant</td>\n      <td>43.6533</td>\n      <td>-79.3579</td>\n      <td>Breakfast Spot</td>\n    </tr>\n    <tr>\n      <th>1</th>\n      <td>Harbourfront, Regent Park</td>\n      <td>43.6543</td>\n      <td>-79.3606</td>\n      <td>5b9e897ac9a5170039679335</td>\n      <td>Ryan Restaurant</td>\n      <td>43.6557</td>\n      <td>-79.3641</td>\n      <td>Ethiopian Restaurant</td>\n    </tr>\n    <tr>\n      <th>2</th>\n      <td>Harbourfront, Regent Park</td>\n      <td>43.6543</td>\n      <td>-79.3606</td>\n      <td>4ae5b91ff964a520a6a121e3</td>\n      <td>Morning Glory Cafe</td>\n      <td>43.6539</td>\n      <td>-79.3611</td>\n      <td>Breakfast Spot</td>\n    </tr>\n    <tr>\n      <th>3</th>\n      <td>Harbourfront, Regent Park</td>\n      <td>43.6543</td>\n      <td>-79.3606</td>\n      <td>5bf9f9f7135b39002cd82007</td>\n      <td>Weheliye Restaurant</td>\n      <td>43.6585</td>\n      <td>-79.3657</td>\n      <td>African Restaurant</td>\n    </tr>\n    <tr>\n      <th>4</th>\n      <td>Harbourfront, Regent Park</td>\n      <td>43.6543</td>\n      <td>-79.3606</td>\n      <td>4ac3e6cef964a520629d20e3</td>\n      <td>Archeo</td>\n      <td>43.6507</td>\n      <td>-79.3594</td>\n      <td>Italian Restaurant</td>\n    </tr>\n  </tbody>\n</table>\n</div>", 
                        "text/plain": "                Neighborhood Neigh_Latitude Neigh_Longitude  \\\n0  Harbourfront, Regent Park        43.6543        -79.3606   \n1  Harbourfront, Regent Park        43.6543        -79.3606   \n2  Harbourfront, Regent Park        43.6543        -79.3606   \n3  Harbourfront, Regent Park        43.6543        -79.3606   \n4  Harbourfront, Regent Park        43.6543        -79.3606   \n\n                         ID                            Venue Venue_Latitude  \\\n0  4f872713e4b0abaa00979185  Site Of Great Canary Restaurant        43.6533   \n1  5b9e897ac9a5170039679335                  Ryan Restaurant        43.6557   \n2  4ae5b91ff964a520a6a121e3               Morning Glory Cafe        43.6539   \n3  5bf9f9f7135b39002cd82007              Weheliye Restaurant        43.6585   \n4  4ac3e6cef964a520629d20e3                           Archeo        43.6507   \n\n  Venue_Longitude        Venue_Category  \n0        -79.3579        Breakfast Spot  \n1        -79.3641  Ethiopian Restaurant  \n2        -79.3611        Breakfast Spot  \n3        -79.3657    African Restaurant  \n4        -79.3594    Italian Restaurant  "
                    }, 
                    "output_type": "execute_result"
                }
            ], 
            "source": "toronto_venues.dropna(axis=0,how='any',inplace=True)\ntoronto_venues.reset_index(drop=True,inplace=True)\nprint(toronto_venues.shape)\ntoronto_venues.head()"
        }, 
        {
            "source": "List out the unique restaurant categories", 
            "cell_type": "markdown", 
            "metadata": {}
        }, 
        {
            "execution_count": 17, 
            "cell_type": "code", 
            "metadata": {}, 
            "outputs": [
                {
                    "execution_count": 17, 
                    "metadata": {}, 
                    "data": {
                        "text/plain": "array(['Breakfast Spot', 'Ethiopian Restaurant', 'African Restaurant',\n       'Italian Restaurant', 'Thai Restaurant', 'Vietnamese Restaurant',\n       'Diner', 'Fast Food Restaurant', 'Sushi Restaurant', 'Pub',\n       'Sandwich Place', 'American Restaurant', 'Restaurant',\n       'Chinese Restaurant', 'Asian Restaurant', 'Dim Sum Restaurant',\n       'Lounge', 'Theme Restaurant', 'Indian Restaurant',\n       'Modern European Restaurant', 'Caribbean Restaurant',\n       'New American Restaurant', 'Gastropub', 'Japanese Restaurant',\n       'Middle Eastern Restaurant', 'Movie Theater',\n       'Molecular Gastronomy Restaurant', 'Spanish Restaurant', 'Bar',\n       'Mongolian Restaurant', 'Food', 'Beer Bar', 'French Restaurant',\n       'Szechuan Restaurant', 'Nightclub', 'Hakka Restaurant',\n       'Greek Restaurant', 'Portuguese Restaurant', 'Caf\u00e9',\n       'Eastern European Restaurant', 'Wine Bar', 'Deli / Bodega',\n       'Brewery', 'Hotel', 'Steakhouse', 'Cuban Restaurant',\n       'Mexican Restaurant', 'Mediterranean Restaurant', 'Nightlife Spot',\n       'Korean Restaurant', 'Music Venue', 'General Entertainment',\n       'Latin American Restaurant', 'Noodle House',\n       'Vegetarian / Vegan Restaurant', 'Dumpling Restaurant',\n       'Cantonese Restaurant', 'Furniture / Home Store',\n       'Tapas Restaurant', 'Pizza Place'], dtype=object)"
                    }, 
                    "output_type": "execute_result"
                }
            ], 
            "source": "toronto_venues['Venue_Category'].unique()"
        }, 
        {
            "source": "Reviewing unique categories to get more insight", 
            "cell_type": "markdown", 
            "metadata": {}
        }, 
        {
            "execution_count": 18, 
            "cell_type": "code", 
            "metadata": {}, 
            "outputs": [
                {
                    "execution_count": 18, 
                    "metadata": {}, 
                    "data": {
                        "text/html": "<div>\n<style scoped>\n    .dataframe tbody tr th:only-of-type {\n        vertical-align: middle;\n    }\n\n    .dataframe tbody tr th {\n        vertical-align: top;\n    }\n\n    .dataframe thead th {\n        text-align: right;\n    }\n</style>\n<table border=\"1\" class=\"dataframe\">\n  <thead>\n    <tr style=\"text-align: right;\">\n      <th></th>\n      <th>Neighborhood</th>\n      <th>Neigh_Latitude</th>\n      <th>Neigh_Longitude</th>\n      <th>ID</th>\n      <th>Venue</th>\n      <th>Venue_Latitude</th>\n      <th>Venue_Longitude</th>\n      <th>Venue_Category</th>\n    </tr>\n  </thead>\n  <tbody>\n    <tr>\n      <th>410</th>\n      <td>Chinatown, Grange Park, Kensington Market</td>\n      <td>43.6532</td>\n      <td>-79.4</td>\n      <td>4b266f05f964a520657b24e3</td>\n      <td>Goldstone Noodle Restaurant \u91d1\u77f3</td>\n      <td>43.6523</td>\n      <td>-79.398</td>\n      <td>Noodle House</td>\n    </tr>\n  </tbody>\n</table>\n</div>", 
                        "text/plain": "                                  Neighborhood Neigh_Latitude Neigh_Longitude  \\\n410  Chinatown, Grange Park, Kensington Market        43.6532           -79.4   \n\n                           ID                           Venue Venue_Latitude  \\\n410  4b266f05f964a520657b24e3  Goldstone Noodle Restaurant \u91d1\u77f3        43.6523   \n\n    Venue_Longitude Venue_Category  \n410         -79.398   Noodle House  "
                    }, 
                    "output_type": "execute_result"
                }
            ], 
            "source": "toronto_venues[toronto_venues['Venue_Category'] == 'Food'].head(15)\ntoronto_venues[toronto_venues['Venue_Category'] == 'Hakka Restaurant'].head(15)\ntoronto_venues[toronto_venues['Venue_Category'] == 'Asian'].head(15)\ntoronto_venues[toronto_venues['Venue_Category'] == 'Restaurant'].head(15)\ntoronto_venues[toronto_venues['Venue_Category'] == 'Noodle House'].head(15)"
        }, 
        {
            "source": "Dropping the word restaurant from the category type value for ease of use", 
            "cell_type": "markdown", 
            "metadata": {}
        }, 
        {
            "execution_count": 19, 
            "cell_type": "code", 
            "metadata": {}, 
            "outputs": [
                {
                    "execution_count": 19, 
                    "metadata": {}, 
                    "data": {
                        "text/plain": "array(['Breakfast Spot', 'Ethiopian', 'African', 'Italian', 'Thai',\n       'Vietnamese', 'Diner', 'Fast Food', 'Sushi', 'Pub',\n       'Sandwich Place', 'American', 'Restaurant', 'Chinese', 'Asian',\n       'Dim Sum', 'Lounge', 'Theme', 'Indian', 'Modern European',\n       'Caribbean', 'New American', 'Gastropub', 'Japanese',\n       'Middle Eastern', 'Movie Theater', 'Molecular Gastronomy',\n       'Spanish', 'Bar', 'Mongolian', 'Food', 'Beer Bar', 'French',\n       'Szechuan', 'Nightclub', 'Hakka', 'Greek', 'Portuguese', 'Caf\u00e9',\n       'Eastern European', 'Wine Bar', 'Deli / Bodega', 'Brewery', 'Hotel',\n       'Steakhouse', 'Cuban', 'Mexican', 'Mediterranean', 'Nightlife Spot',\n       'Korean', 'Music Venue', 'General Entertainment', 'Latin American',\n       'Noodle House', 'Vegetarian / Vegan', 'Dumpling', 'Cantonese',\n       'Furniture / Home Store', 'Tapas', 'Pizza Place'], dtype=object)"
                    }, 
                    "output_type": "execute_result"
                }
            ], 
            "source": "toronto_venues['Venue_Category'] = toronto_venues['Venue_Category'].str.replace(\" Restaurant\",\"\")\ntoronto_venues['Venue_Category'].unique()"
        }, 
        {
            "source": "A FOR loop to group the venue categories into venues category group", 
            "cell_type": "markdown", 
            "metadata": {}
        }, 
        {
            "execution_count": 20, 
            "cell_type": "code", 
            "metadata": {}, 
            "outputs": [], 
            "source": "for i in range(0,toronto_venues.shape[0]):\n    if (toronto_venues.loc[i,'Venue_Category'] in ('Chinese','Korean','Thai','Asian','Japanese','Sushi', \\\n                                                   'Dim Sum','Hakka','Vietnamese','Mongolian','Szechuan', \\\n                                                  'Cantonese','Dumpling','Noodle House')):\n        toronto_venues.loc[i,'Venue_Cat_Group'] = 'East Asian'\n    elif (toronto_venues.loc[i,'Venue_Category'] in ('Indian')):\n        toronto_venues.loc[i,'Venue_Cat_Group'] = 'South Asian'\n    elif (toronto_venues.loc[i,'Venue_Category'] in ('Ethiopian','African',)):\n        toronto_venues.loc[i,'Venue_Cat_Group'] = 'African'\n    elif (toronto_venues.loc[i,'Venue_Category'] in ('American','New American','Steakhouse','Diner')):\n        toronto_venues.loc[i,'Venue_Cat_Group'] = 'North American'\n    elif (toronto_venues.loc[i,'Venue_Category'] in ('Mexican','Latin American')):\n        toronto_venues.loc[i,'Venue_Cat_Group'] = 'Latin American'\n    elif (toronto_venues.loc[i,'Venue_Category'] in ('Bar','Nightclub','Wine Bar','Beer Bar','Gastropub', \\\n                                                        'Pub','Brewery','Nightlife Spot','Lounge')):\n        toronto_venues.loc[i,'Venue_Cat_Group'] = 'Beverage Bar'\n    elif (toronto_venues.loc[i,'Venue_Category'] in ('Italian','Pizza Place','Spanish','Tapas', \\\n                                                        'French','Portuguese','Modern European','Eastern European')):\n        toronto_venues.loc[i,'Venue_Cat_Group'] = 'European'\n    elif (toronto_venues.loc[i,'Venue_Category'] in ('Middle Eastern','Greek','Mediterranean')):\n        toronto_venues.loc[i,'Venue_Cat_Group'] = 'Mediterranean'\n    elif (toronto_venues.loc[i,'Venue_Category'] in ('Caribbean','Cuban')):\n        toronto_venues.loc[i,'Venue_Cat_Group'] = 'Caribbean'\n    else:\n        toronto_venues.loc[i,'Venue_Cat_Group'] = (toronto_venues.loc[i,'Venue_Category'])"
        }, 
        {
            "execution_count": 21, 
            "cell_type": "code", 
            "metadata": {}, 
            "outputs": [
                {
                    "execution_count": 21, 
                    "metadata": {}, 
                    "data": {
                        "text/plain": "array(['Breakfast Spot', 'African', 'European', 'East Asian',\n       'North American', 'Fast Food', 'Beverage Bar', 'Sandwich Place',\n       'Restaurant', 'Theme', 'South Asian', 'Caribbean', 'Mediterranean',\n       'Movie Theater', 'Molecular Gastronomy', 'Food', 'Caf\u00e9',\n       'Deli / Bodega', 'Hotel', 'Latin American', 'Music Venue',\n       'General Entertainment', 'Vegetarian / Vegan',\n       'Furniture / Home Store'], dtype=object)"
                    }, 
                    "output_type": "execute_result"
                }
            ], 
            "source": "toronto_venues['Venue_Cat_Group'].unique()"
        }, 
        {
            "source": "Deleting rows that either are not true culinary establishments e.g. Music Venue, Movie Tehater and do not have any specific categorization e.g. - Food, Restaurant", 
            "cell_type": "markdown", 
            "metadata": {}
        }, 
        {
            "execution_count": 22, 
            "cell_type": "code", 
            "metadata": {}, 
            "outputs": [], 
            "source": "delet_cat_group = ('Restaurant','General Entertainment','Hotel','Food','Deli / Bodega', \\\n                   'Movie Theater','Music Venue','Furniture / Home Store')\ntoronto_venues = toronto_venues[~toronto_venues.Venue_Cat_Group.isin(delet_cat_group)]"
        }, 
        {
            "execution_count": 23, 
            "cell_type": "code", 
            "metadata": {
                "scrolled": true
            }, 
            "outputs": [
                {
                    "execution_count": 23, 
                    "metadata": {}, 
                    "data": {
                        "text/plain": "array(['Breakfast Spot', 'African', 'European', 'East Asian',\n       'North American', 'Fast Food', 'Beverage Bar', 'Sandwich Place',\n       'Theme', 'South Asian', 'Caribbean', 'Mediterranean',\n       'Molecular Gastronomy', 'Caf\u00e9', 'Latin American',\n       'Vegetarian / Vegan'], dtype=object)"
                    }, 
                    "output_type": "execute_result"
                }
            ], 
            "source": "toronto_venues.reset_index(drop=True,inplace=True)\ntoronto_venues['Venue_Cat_Group'].unique()"
        }, 
        {
            "source": "toronto_venues.shape", 
            "cell_type": "markdown", 
            "metadata": {}
        }, 
        {
            "execution_count": 25, 
            "cell_type": "code", 
            "metadata": {
                "scrolled": true
            }, 
            "outputs": [
                {
                    "execution_count": 25, 
                    "metadata": {}, 
                    "data": {
                        "text/plain": "Index(['Neighborhood', 'Neigh_Latitude', 'Neigh_Longitude', 'ID', 'Venue',\n       'Venue_Latitude', 'Venue_Longitude', 'Venue_Category',\n       'Venue_Cat_Group'],\n      dtype='object')"
                    }, 
                    "output_type": "execute_result"
                }
            ], 
            "source": "toronto_venues.columns"
        }, 
        {
            "source": "Creating a new data froame with just the venue information and dropping all the duplicate records", 
            "cell_type": "markdown", 
            "metadata": {}
        }, 
        {
            "execution_count": 26, 
            "cell_type": "code", 
            "metadata": {}, 
            "outputs": [
                {
                    "output_type": "stream", 
                    "name": "stdout", 
                    "text": "(262, 6)\n"
                }, 
                {
                    "execution_count": 26, 
                    "metadata": {}, 
                    "data": {
                        "text/html": "<div>\n<style scoped>\n    .dataframe tbody tr th:only-of-type {\n        vertical-align: middle;\n    }\n\n    .dataframe tbody tr th {\n        vertical-align: top;\n    }\n\n    .dataframe thead th {\n        text-align: right;\n    }\n</style>\n<table border=\"1\" class=\"dataframe\">\n  <thead>\n    <tr style=\"text-align: right;\">\n      <th></th>\n      <th>ID</th>\n      <th>Venue</th>\n      <th>Venue_Latitude</th>\n      <th>Venue_Longitude</th>\n      <th>Venue_Category</th>\n      <th>Venue_Cat_Group</th>\n    </tr>\n  </thead>\n  <tbody>\n    <tr>\n      <th>0</th>\n      <td>4f872713e4b0abaa00979185</td>\n      <td>Site Of Great Canary Restaurant</td>\n      <td>43.6533</td>\n      <td>-79.3579</td>\n      <td>Breakfast Spot</td>\n      <td>Breakfast Spot</td>\n    </tr>\n    <tr>\n      <th>1</th>\n      <td>5b9e897ac9a5170039679335</td>\n      <td>Ryan Restaurant</td>\n      <td>43.6557</td>\n      <td>-79.3641</td>\n      <td>Ethiopian</td>\n      <td>African</td>\n    </tr>\n  </tbody>\n</table>\n</div>", 
                        "text/plain": "                         ID                            Venue Venue_Latitude  \\\n0  4f872713e4b0abaa00979185  Site Of Great Canary Restaurant        43.6533   \n1  5b9e897ac9a5170039679335                  Ryan Restaurant        43.6557   \n\n  Venue_Longitude  Venue_Category Venue_Cat_Group  \n0        -79.3579  Breakfast Spot  Breakfast Spot  \n1        -79.3641       Ethiopian         African  "
                    }, 
                    "output_type": "execute_result"
                }
            ], 
            "source": "toronto_venues_no_dup = pd.DataFrame\ntoronto_venues_no_dup = toronto_venues.copy()\ntoronto_venues_no_dup.drop(['Neighborhood','Neigh_Latitude','Neigh_Longitude'],axis=1,inplace=True)\ntoronto_venues_no_dup.drop_duplicates(inplace=True)\ntoronto_venues_no_dup.reset_index(drop=True,inplace=True)\nprint(toronto_venues_no_dup.shape)\ntoronto_venues_no_dup.head(2)"
        }, 
        {
            "source": "Adding a new column to store the ratings value", 
            "cell_type": "markdown", 
            "metadata": {}
        }, 
        {
            "execution_count": 27, 
            "cell_type": "code", 
            "metadata": {}, 
            "outputs": [
                {
                    "execution_count": 27, 
                    "metadata": {}, 
                    "data": {
                        "text/plain": "Index(['ID', 'Venue', 'Venue_Latitude', 'Venue_Longitude', 'Venue_Category',\n       'Venue_Cat_Group', 'Venue_Rating'],\n      dtype='object')"
                    }, 
                    "output_type": "execute_result"
                }
            ], 
            "source": "toronto_venues_no_dup['Venue_Rating'] = np.nan\ntoronto_venues_no_dup.columns"
        }, 
        {
            "execution_count": 28, 
            "cell_type": "code", 
            "metadata": {}, 
            "outputs": [
                {
                    "execution_count": 28, 
                    "metadata": {}, 
                    "data": {
                        "text/plain": "(262, 7)"
                    }, 
                    "output_type": "execute_result"
                }
            ], 
            "source": "toronto_venues_no_dup.shape"
        }, 
        {
            "source": "Copying the data into a new data frame for further processing and preserving the original data frame", 
            "cell_type": "markdown", 
            "metadata": {}
        }, 
        {
            "execution_count": 29, 
            "cell_type": "code", 
            "metadata": {}, 
            "outputs": [
                {
                    "execution_count": 29, 
                    "metadata": {}, 
                    "data": {
                        "text/html": "<div>\n<style scoped>\n    .dataframe tbody tr th:only-of-type {\n        vertical-align: middle;\n    }\n\n    .dataframe tbody tr th {\n        vertical-align: top;\n    }\n\n    .dataframe thead th {\n        text-align: right;\n    }\n</style>\n<table border=\"1\" class=\"dataframe\">\n  <thead>\n    <tr style=\"text-align: right;\">\n      <th></th>\n      <th>ID</th>\n      <th>Venue</th>\n      <th>Venue_Latitude</th>\n      <th>Venue_Longitude</th>\n      <th>Venue_Category</th>\n      <th>Venue_Cat_Group</th>\n      <th>Venue_Rating</th>\n    </tr>\n  </thead>\n  <tbody>\n    <tr>\n      <th>0</th>\n      <td>4f872713e4b0abaa00979185</td>\n      <td>Site Of Great Canary Restaurant</td>\n      <td>43.6533</td>\n      <td>-79.3579</td>\n      <td>Breakfast Spot</td>\n      <td>Breakfast Spot</td>\n      <td>NaN</td>\n    </tr>\n    <tr>\n      <th>1</th>\n      <td>5b9e897ac9a5170039679335</td>\n      <td>Ryan Restaurant</td>\n      <td>43.6557</td>\n      <td>-79.3641</td>\n      <td>Ethiopian</td>\n      <td>African</td>\n      <td>NaN</td>\n    </tr>\n  </tbody>\n</table>\n</div>", 
                        "text/plain": "                         ID                            Venue Venue_Latitude  \\\n0  4f872713e4b0abaa00979185  Site Of Great Canary Restaurant        43.6533   \n1  5b9e897ac9a5170039679335                  Ryan Restaurant        43.6557   \n\n  Venue_Longitude  Venue_Category Venue_Cat_Group  Venue_Rating  \n0        -79.3579  Breakfast Spot  Breakfast Spot           NaN  \n1        -79.3641       Ethiopian         African           NaN  "
                    }, 
                    "output_type": "execute_result"
                }
            ], 
            "source": "toronto_venues_1 = toronto_venues_no_dup.copy()\ntoronto_venues_1.head(2)"
        }, 
        {
            "execution_count": 30, 
            "cell_type": "code", 
            "metadata": {}, 
            "outputs": [
                {
                    "execution_count": 30, 
                    "metadata": {}, 
                    "data": {
                        "text/plain": "(262, 7)"
                    }, 
                    "output_type": "execute_result"
                }
            ], 
            "source": "toronto_venues_1.shape"
        }, 
        {
            "source": "Creating user defined function to get the ratings value", 
            "cell_type": "markdown", 
            "metadata": {}
        }, 
        {
            "execution_count": 31, 
            "cell_type": "code", 
            "metadata": {}, 
            "outputs": [], 
            "source": "def getVenueRatings(venue_id):\n    url = 'https://api.foursquare.com/v2/venues/{}?client_id={}&client_secret={}&v={}'.format(\n        venue_id, CLIENT_ID, CLIENT_SECRET, VERSION)\n    results = requests.get(url).json()\n    try:\n        venue_rating = results['response']['venue']['rating']  \n    except:\n        venue_rating = 0\n    return(venue_rating)"
        }, 
        {
            "source": "Using a for loop to get hte ratings for all rows in the input data frame", 
            "cell_type": "markdown", 
            "metadata": {}
        }, 
        {
            "execution_count": 32, 
            "cell_type": "code", 
            "metadata": {}, 
            "outputs": [
                {
                    "execution_count": 32, 
                    "metadata": {}, 
                    "data": {
                        "text/html": "<div>\n<style scoped>\n    .dataframe tbody tr th:only-of-type {\n        vertical-align: middle;\n    }\n\n    .dataframe tbody tr th {\n        vertical-align: top;\n    }\n\n    .dataframe thead th {\n        text-align: right;\n    }\n</style>\n<table border=\"1\" class=\"dataframe\">\n  <thead>\n    <tr style=\"text-align: right;\">\n      <th></th>\n      <th>ID</th>\n      <th>Venue</th>\n      <th>Venue_Latitude</th>\n      <th>Venue_Longitude</th>\n      <th>Venue_Category</th>\n      <th>Venue_Cat_Group</th>\n      <th>Venue_Rating</th>\n    </tr>\n  </thead>\n  <tbody>\n    <tr>\n      <th>0</th>\n      <td>4f872713e4b0abaa00979185</td>\n      <td>Site Of Great Canary Restaurant</td>\n      <td>43.6533</td>\n      <td>-79.3579</td>\n      <td>Breakfast Spot</td>\n      <td>Breakfast Spot</td>\n      <td>0.0</td>\n    </tr>\n    <tr>\n      <th>1</th>\n      <td>5b9e897ac9a5170039679335</td>\n      <td>Ryan Restaurant</td>\n      <td>43.6557</td>\n      <td>-79.3641</td>\n      <td>Ethiopian</td>\n      <td>African</td>\n      <td>0.0</td>\n    </tr>\n    <tr>\n      <th>2</th>\n      <td>4ae5b91ff964a520a6a121e3</td>\n      <td>Morning Glory Cafe</td>\n      <td>43.6539</td>\n      <td>-79.3611</td>\n      <td>Breakfast Spot</td>\n      <td>Breakfast Spot</td>\n      <td>7.9</td>\n    </tr>\n  </tbody>\n</table>\n</div>", 
                        "text/plain": "                         ID                            Venue Venue_Latitude  \\\n0  4f872713e4b0abaa00979185  Site Of Great Canary Restaurant        43.6533   \n1  5b9e897ac9a5170039679335                  Ryan Restaurant        43.6557   \n2  4ae5b91ff964a520a6a121e3               Morning Glory Cafe        43.6539   \n\n  Venue_Longitude  Venue_Category Venue_Cat_Group  Venue_Rating  \n0        -79.3579  Breakfast Spot  Breakfast Spot           0.0  \n1        -79.3641       Ethiopian         African           0.0  \n2        -79.3611  Breakfast Spot  Breakfast Spot           7.9  "
                    }, 
                    "output_type": "execute_result"
                }
            ], 
            "source": "for i in range(0,toronto_venues_1.shape[0]):\n    toronto_venues_1.loc[i,'Venue_Rating'] = getVenueRatings(toronto_venues_1.loc[i,'ID'])\n\ntoronto_venues_1.head(3)"
        }, 
        {
            "execution_count": 33, 
            "cell_type": "code", 
            "metadata": {}, 
            "outputs": [
                {
                    "execution_count": 33, 
                    "metadata": {}, 
                    "data": {
                        "text/plain": "array([ 0. ,  7.9,  8.1,  5.5,  7.6,  6.1,  5.4,  5.8,  6.3,  6.6,  8.2,\n        7.7,  7.2,  6.2,  8.6,  7. ,  5.1,  8.9,  6.4,  6.8,  5.6,  7.8,\n        7.3,  5.7,  7.5,  6. ,  8. ,  8.4,  5.2,  7.1,  8.3,  4.7,  6.7,\n        7.4,  5.9,  8.7,  6.5,  6.9,  9.1,  9.2])"
                    }, 
                    "output_type": "execute_result"
                }
            ], 
            "source": "toronto_venues_1['Venue_Rating'].unique()"
        }, 
        {
            "source": "Creating a data frame to store only rows with non-zero ratings and also grouping the rows based on vanue category group type. Aggregate function of count is used on the Venue column and Sum on the Ratings column", 
            "cell_type": "markdown", 
            "metadata": {}
        }, 
        {
            "execution_count": 34, 
            "cell_type": "code", 
            "metadata": {}, 
            "outputs": [
                {
                    "execution_count": 34, 
                    "metadata": {}, 
                    "data": {
                        "text/html": "<div>\n<style scoped>\n    .dataframe tbody tr th:only-of-type {\n        vertical-align: middle;\n    }\n\n    .dataframe tbody tr th {\n        vertical-align: top;\n    }\n\n    .dataframe thead th {\n        text-align: right;\n    }\n</style>\n<table border=\"1\" class=\"dataframe\">\n  <thead>\n    <tr style=\"text-align: right;\">\n      <th></th>\n      <th>Venue</th>\n      <th>Venue_Rating</th>\n    </tr>\n    <tr>\n      <th>Venue_Cat_Group</th>\n      <th></th>\n      <th></th>\n    </tr>\n  </thead>\n  <tbody>\n    <tr>\n      <th>East Asian</th>\n      <td>64</td>\n      <td>439.8</td>\n    </tr>\n    <tr>\n      <th>European</th>\n      <td>16</td>\n      <td>119.0</td>\n    </tr>\n    <tr>\n      <th>North American</th>\n      <td>15</td>\n      <td>110.8</td>\n    </tr>\n    <tr>\n      <th>Beverage Bar</th>\n      <td>14</td>\n      <td>102.2</td>\n    </tr>\n    <tr>\n      <th>Sandwich Place</th>\n      <td>14</td>\n      <td>86.7</td>\n    </tr>\n  </tbody>\n</table>\n</div>", 
                        "text/plain": "                 Venue  Venue_Rating\nVenue_Cat_Group                     \nEast Asian          64         439.8\nEuropean            16         119.0\nNorth American      15         110.8\nBeverage Bar        14         102.2\nSandwich Place      14          86.7"
                    }, 
                    "output_type": "execute_result"
                }
            ], 
            "source": "toront_venue_1_rate_nonzero = pd.DataFrame()\ntoront_venue_1_rate_nonzero = toronto_venues_1[toronto_venues_1['Venue_Rating'] != 0]\ntoront_venue_1_rate_mean = toront_venue_1_rate_nonzero.groupby('Venue_Cat_Group').agg({'Venue':'count','Venue_Rating':'sum'})\ntoront_venue_1_rate_mean.sort_values('Venue_Rating',ascending =False,inplace=True)\ntoront_venue_1_rate_mean.head()"
        }, 
        {
            "source": "Weighted Average of the ratings is calculated and added to the data frame", 
            "cell_type": "markdown", 
            "metadata": {}
        }, 
        {
            "execution_count": 35, 
            "cell_type": "code", 
            "metadata": {}, 
            "outputs": [], 
            "source": "toront_venue_1_rate_mean['Avg_Rating'] = (toront_venue_1_rate_mean['Venue_Rating']  * \\\n                                          toront_venue_1_rate_mean['Venue']) / sum(toront_venue_1_rate_mean['Venue'])"
        }, 
        {
            "source": "The data frame is sorted in the descending order of the weightes average ratings", 
            "cell_type": "markdown", 
            "metadata": {}
        }, 
        {
            "execution_count": 36, 
            "cell_type": "code", 
            "metadata": {}, 
            "outputs": [
                {
                    "execution_count": 36, 
                    "metadata": {}, 
                    "data": {
                        "text/html": "<div>\n<style scoped>\n    .dataframe tbody tr th:only-of-type {\n        vertical-align: middle;\n    }\n\n    .dataframe tbody tr th {\n        vertical-align: top;\n    }\n\n    .dataframe thead th {\n        text-align: right;\n    }\n</style>\n<table border=\"1\" class=\"dataframe\">\n  <thead>\n    <tr style=\"text-align: right;\">\n      <th></th>\n      <th>Venue</th>\n      <th>Venue_Rating</th>\n      <th>Avg_Rating</th>\n    </tr>\n    <tr>\n      <th>Venue_Cat_Group</th>\n      <th></th>\n      <th></th>\n      <th></th>\n    </tr>\n  </thead>\n  <tbody>\n    <tr>\n      <th>East Asian</th>\n      <td>64</td>\n      <td>439.8</td>\n      <td>182.774026</td>\n    </tr>\n    <tr>\n      <th>European</th>\n      <td>16</td>\n      <td>119.0</td>\n      <td>12.363636</td>\n    </tr>\n    <tr>\n      <th>North American</th>\n      <td>15</td>\n      <td>110.8</td>\n      <td>10.792208</td>\n    </tr>\n    <tr>\n      <th>Beverage Bar</th>\n      <td>14</td>\n      <td>102.2</td>\n      <td>9.290909</td>\n    </tr>\n    <tr>\n      <th>Sandwich Place</th>\n      <td>14</td>\n      <td>86.7</td>\n      <td>7.881818</td>\n    </tr>\n  </tbody>\n</table>\n</div>", 
                        "text/plain": "                 Venue  Venue_Rating  Avg_Rating\nVenue_Cat_Group                                 \nEast Asian          64         439.8  182.774026\nEuropean            16         119.0   12.363636\nNorth American      15         110.8   10.792208\nBeverage Bar        14         102.2    9.290909\nSandwich Place      14          86.7    7.881818"
                    }, 
                    "output_type": "execute_result"
                }
            ], 
            "source": "toront_venue_1_rate_mean.sort_values('Avg_Rating',ascending=False, inplace=True)\ntoront_venue_1_rate_mean.head()"
        }, 
        {
            "execution_count": 37, 
            "cell_type": "code", 
            "metadata": {}, 
            "outputs": [
                {
                    "execution_count": 37, 
                    "metadata": {}, 
                    "data": {
                        "text/html": "<div>\n<style scoped>\n    .dataframe tbody tr th:only-of-type {\n        vertical-align: middle;\n    }\n\n    .dataframe tbody tr th {\n        vertical-align: top;\n    }\n\n    .dataframe thead th {\n        text-align: right;\n    }\n</style>\n<table border=\"1\" class=\"dataframe\">\n  <thead>\n    <tr style=\"text-align: right;\">\n      <th></th>\n      <th>Venue_Cat_Group</th>\n      <th>Venue</th>\n      <th>Venue_Rating</th>\n      <th>Avg_Rating</th>\n    </tr>\n  </thead>\n  <tbody>\n    <tr>\n      <th>0</th>\n      <td>East Asian</td>\n      <td>64</td>\n      <td>439.8</td>\n      <td>182.774026</td>\n    </tr>\n    <tr>\n      <th>1</th>\n      <td>European</td>\n      <td>16</td>\n      <td>119.0</td>\n      <td>12.363636</td>\n    </tr>\n    <tr>\n      <th>2</th>\n      <td>North American</td>\n      <td>15</td>\n      <td>110.8</td>\n      <td>10.792208</td>\n    </tr>\n    <tr>\n      <th>3</th>\n      <td>Beverage Bar</td>\n      <td>14</td>\n      <td>102.2</td>\n      <td>9.290909</td>\n    </tr>\n    <tr>\n      <th>4</th>\n      <td>Sandwich Place</td>\n      <td>14</td>\n      <td>86.7</td>\n      <td>7.881818</td>\n    </tr>\n  </tbody>\n</table>\n</div>", 
                        "text/plain": "  Venue_Cat_Group  Venue  Venue_Rating  Avg_Rating\n0      East Asian     64         439.8  182.774026\n1        European     16         119.0   12.363636\n2  North American     15         110.8   10.792208\n3    Beverage Bar     14         102.2    9.290909\n4  Sandwich Place     14          86.7    7.881818"
                    }, 
                    "output_type": "execute_result"
                }
            ], 
            "source": "toront_venue_1_rate_mean.reset_index(inplace=True)\ntoront_venue_1_rate_mean.head()"
        }, 
        {
            "source": "Creating a new data frame with just the neighborhod name and venue category group information and dropping any duplicates", 
            "cell_type": "markdown", 
            "metadata": {}
        }, 
        {
            "execution_count": 38, 
            "cell_type": "code", 
            "metadata": {}, 
            "outputs": [
                {
                    "execution_count": 38, 
                    "metadata": {}, 
                    "data": {
                        "text/html": "<div>\n<style scoped>\n    .dataframe tbody tr th:only-of-type {\n        vertical-align: middle;\n    }\n\n    .dataframe tbody tr th {\n        vertical-align: top;\n    }\n\n    .dataframe thead th {\n        text-align: right;\n    }\n</style>\n<table border=\"1\" class=\"dataframe\">\n  <thead>\n    <tr style=\"text-align: right;\">\n      <th></th>\n      <th>Neighborhood</th>\n      <th>Venue_Cat_Group</th>\n    </tr>\n  </thead>\n  <tbody>\n    <tr>\n      <th>0</th>\n      <td>Harbourfront, Regent Park</td>\n      <td>Breakfast Spot</td>\n    </tr>\n    <tr>\n      <th>1</th>\n      <td>Harbourfront, Regent Park</td>\n      <td>African</td>\n    </tr>\n    <tr>\n      <th>2</th>\n      <td>Harbourfront, Regent Park</td>\n      <td>European</td>\n    </tr>\n    <tr>\n      <th>3</th>\n      <td>Harbourfront, Regent Park</td>\n      <td>East Asian</td>\n    </tr>\n    <tr>\n      <th>4</th>\n      <td>Lawrence Heights, Lawrence Manor</td>\n      <td>East Asian</td>\n    </tr>\n  </tbody>\n</table>\n</div>", 
                        "text/plain": "                       Neighborhood Venue_Cat_Group\n0         Harbourfront, Regent Park  Breakfast Spot\n1         Harbourfront, Regent Park         African\n2         Harbourfront, Regent Park        European\n3         Harbourfront, Regent Park      East Asian\n4  Lawrence Heights, Lawrence Manor      East Asian"
                    }, 
                    "output_type": "execute_result"
                }
            ], 
            "source": "toronto_neigh_cat = pd.DataFrame()\ntoronto_neigh_cat = toronto_venues.drop(['Neigh_Latitude','Neigh_Longitude','ID', \\\n                                           'Venue', 'Venue_Latitude', 'Venue_Longitude', \\\n                                         'Venue_Category'],axis=1).copy()\ntoronto_neigh_cat_2 = pd.DataFrame()\ntoronto_neigh_cat_2 = toronto_neigh_cat.drop_duplicates().copy()\ntoronto_neigh_cat_2.reset_index(inplace=True)\ntoronto_neigh_cat_2.drop('index',axis=1,inplace = True)\ntoronto_neigh_cat_2.head()"
        }, 
        {
            "source": "Creating a new data frame by grouping the rows of previous data frame on the neighborhood value and concatenating the venue category type value", 
            "cell_type": "markdown", 
            "metadata": {}
        }, 
        {
            "execution_count": 39, 
            "cell_type": "code", 
            "metadata": {}, 
            "outputs": [
                {
                    "execution_count": 39, 
                    "metadata": {}, 
                    "data": {
                        "text/html": "<div>\n<style scoped>\n    .dataframe tbody tr th:only-of-type {\n        vertical-align: middle;\n    }\n\n    .dataframe tbody tr th {\n        vertical-align: top;\n    }\n\n    .dataframe thead th {\n        text-align: right;\n    }\n</style>\n<table border=\"1\" class=\"dataframe\">\n  <thead>\n    <tr style=\"text-align: right;\">\n      <th></th>\n      <th>Neighborhood</th>\n      <th>Venue_Cat_Group</th>\n    </tr>\n  </thead>\n  <tbody>\n    <tr>\n      <th>0</th>\n      <td>Adelaide, King, Richmond</td>\n      <td>North American, South Asian, East Asian, Bever...</td>\n    </tr>\n    <tr>\n      <th>1</th>\n      <td>Agincourt</td>\n      <td>East Asian, Sandwich Place</td>\n    </tr>\n    <tr>\n      <th>2</th>\n      <td>Agincourt North, \"LAmoreaux East\", Milliken, S...</td>\n      <td>East Asian</td>\n    </tr>\n    <tr>\n      <th>3</th>\n      <td>Alderwood, Long Branch</td>\n      <td>European, East Asian</td>\n    </tr>\n    <tr>\n      <th>4</th>\n      <td>Bathurst Manor, Downsview North, Wilson Heights</td>\n      <td>Mediterranean, Sandwich Place</td>\n    </tr>\n  </tbody>\n</table>\n</div>", 
                        "text/plain": "                                        Neighborhood  \\\n0                           Adelaide, King, Richmond   \n1                                          Agincourt   \n2  Agincourt North, \"LAmoreaux East\", Milliken, S...   \n3                             Alderwood, Long Branch   \n4    Bathurst Manor, Downsview North, Wilson Heights   \n\n                                     Venue_Cat_Group  \n0  North American, South Asian, East Asian, Bever...  \n1                         East Asian, Sandwich Place  \n2                                         East Asian  \n3                               European, East Asian  \n4                      Mediterranean, Sandwich Place  "
                    }, 
                    "output_type": "execute_result"
                }
            ], 
            "source": "toronto_neigh_cat_3 = toronto_neigh_cat_2.groupby('Neighborhood')['Venue_Cat_Group'].apply(tuple)\ntoronto_neigh_cat_3 = pd.DataFrame(toronto_neigh_cat_3)\ntoronto_neigh_cat_3.reset_index(inplace=True)\ntoronto_neigh_cat_3['Venue_Cat_Group'] = toronto_neigh_cat_3['Venue_Cat_Group'].astype(str)\ntoronto_neigh_cat_3['Venue_Cat_Group'] = toronto_neigh_cat_3['Venue_Cat_Group'].str.slice(stop = -2)\ntoronto_neigh_cat_3['Venue_Cat_Group'] = toronto_neigh_cat_3['Venue_Cat_Group'].str.slice(start = 2)\ntoronto_neigh_cat_3['Venue_Cat_Group'] = toronto_neigh_cat_3['Venue_Cat_Group'].str.replace(\"'\",\"\")\ntoronto_neigh_cat_3.head()"
        }, 
        {
            "source": "Creating a user defined function to find the next venue category group type", 
            "cell_type": "markdown", 
            "metadata": {}
        }, 
        {
            "execution_count": 40, 
            "cell_type": "code", 
            "metadata": {}, 
            "outputs": [], 
            "source": "def getNextRestaurant(toronto_neigh_cat_3):\n    next_rest = pd.DataFrame(columns=('Neighborhood','Next_Rest_Cat_Group'))\n    i = 0\n    for i in range(0,toronto_neigh_cat_3.shape[0]):\n        next_rest.loc[i,'Neighborhood'] = toronto_neigh_cat_3.loc[i,'Neighborhood']\n        j = 0\n        for j in range(0,toront_venue_1_rate_mean.shape[0]):\n            if (toront_venue_1_rate_mean.loc[j,'Venue_Cat_Group'] in toronto_neigh_cat_3.loc[i,'Venue_Cat_Group']):\n                j = j + 1\n            else:\n                next_rest.loc[i,'Next_Rest_Cat_Group'] = toront_venue_1_rate_mean.loc[j,'Venue_Cat_Group']\n                break\n        i = i + 1\n    \n    return(next_rest)      \n"
        }, 
        {
            "source": "Calling the function by passing the data frame as an argument", 
            "cell_type": "markdown", 
            "metadata": {}
        }, 
        {
            "execution_count": 41, 
            "cell_type": "code", 
            "metadata": {}, 
            "outputs": [], 
            "source": "next_rest = getNextRestaurant(toronto_neigh_cat_3)"
        }, 
        {
            "execution_count": 42, 
            "cell_type": "code", 
            "metadata": {}, 
            "outputs": [
                {
                    "execution_count": 42, 
                    "metadata": {}, 
                    "data": {
                        "text/html": "<div>\n<style scoped>\n    .dataframe tbody tr th:only-of-type {\n        vertical-align: middle;\n    }\n\n    .dataframe tbody tr th {\n        vertical-align: top;\n    }\n\n    .dataframe thead th {\n        text-align: right;\n    }\n</style>\n<table border=\"1\" class=\"dataframe\">\n  <thead>\n    <tr style=\"text-align: right;\">\n      <th></th>\n      <th>Neighborhood</th>\n      <th>Next_Rest_Cat_Group</th>\n    </tr>\n  </thead>\n  <tbody>\n    <tr>\n      <th>0</th>\n      <td>Adelaide, King, Richmond</td>\n      <td>Molecular Gastronomy</td>\n    </tr>\n    <tr>\n      <th>1</th>\n      <td>Agincourt</td>\n      <td>European</td>\n    </tr>\n    <tr>\n      <th>2</th>\n      <td>Agincourt North, \"LAmoreaux East\", Milliken, S...</td>\n      <td>European</td>\n    </tr>\n    <tr>\n      <th>3</th>\n      <td>Alderwood, Long Branch</td>\n      <td>North American</td>\n    </tr>\n    <tr>\n      <th>4</th>\n      <td>Bathurst Manor, Downsview North, Wilson Heights</td>\n      <td>East Asian</td>\n    </tr>\n    <tr>\n      <th>5</th>\n      <td>Bedford Park, Lawrence Manor East</td>\n      <td>North American</td>\n    </tr>\n    <tr>\n      <th>6</th>\n      <td>Berczy Park</td>\n      <td>European</td>\n    </tr>\n    <tr>\n      <th>7</th>\n      <td>Brockton, Exhibition Place, Parkdale Village</td>\n      <td>European</td>\n    </tr>\n    <tr>\n      <th>8</th>\n      <td>Cabbagetown, St. James Town</td>\n      <td>European</td>\n    </tr>\n    <tr>\n      <th>9</th>\n      <td>Caledonia-Fairbanks</td>\n      <td>East Asian</td>\n    </tr>\n    <tr>\n      <th>10</th>\n      <td>Canada Post Gateway Processing Centre</td>\n      <td>European</td>\n    </tr>\n    <tr>\n      <th>11</th>\n      <td>Cedarbrae</td>\n      <td>North American</td>\n    </tr>\n    <tr>\n      <th>12</th>\n      <td>Central Bay Street</td>\n      <td>Beverage Bar</td>\n    </tr>\n    <tr>\n      <th>13</th>\n      <td>Chinatown, Grange Park, Kensington Market</td>\n      <td>European</td>\n    </tr>\n    <tr>\n      <th>14</th>\n      <td>Christie</td>\n      <td>European</td>\n    </tr>\n    <tr>\n      <th>15</th>\n      <td>Church and Wellesley</td>\n      <td>Breakfast Spot</td>\n    </tr>\n    <tr>\n      <th>16</th>\n      <td>Clarks Corners, Sullivan, \"Tam OShanter</td>\n      <td>European</td>\n    </tr>\n    <tr>\n      <th>17</th>\n      <td>Commerce Court, Victoria Hotel</td>\n      <td>Mediterranean</td>\n    </tr>\n    <tr>\n      <th>18</th>\n      <td>Davisville</td>\n      <td>European</td>\n    </tr>\n    <tr>\n      <th>19</th>\n      <td>Davisville North</td>\n      <td>European</td>\n    </tr>\n  </tbody>\n</table>\n</div>", 
                        "text/plain": "                                         Neighborhood   Next_Rest_Cat_Group\n0                            Adelaide, King, Richmond  Molecular Gastronomy\n1                                           Agincourt              European\n2   Agincourt North, \"LAmoreaux East\", Milliken, S...              European\n3                              Alderwood, Long Branch        North American\n4     Bathurst Manor, Downsview North, Wilson Heights            East Asian\n5                   Bedford Park, Lawrence Manor East        North American\n6                                         Berczy Park              European\n7        Brockton, Exhibition Place, Parkdale Village              European\n8                         Cabbagetown, St. James Town              European\n9                                 Caledonia-Fairbanks            East Asian\n10              Canada Post Gateway Processing Centre              European\n11                                          Cedarbrae        North American\n12                                 Central Bay Street          Beverage Bar\n13          Chinatown, Grange Park, Kensington Market              European\n14                                           Christie              European\n15                               Church and Wellesley        Breakfast Spot\n16            Clarks Corners, Sullivan, \"Tam OShanter              European\n17                     Commerce Court, Victoria Hotel         Mediterranean\n18                                         Davisville              European\n19                                   Davisville North              European"
                    }, 
                    "output_type": "execute_result"
                }
            ], 
            "source": "next_rest.head(20)"
        }, 
        {
            "execution_count": 43, 
            "cell_type": "code", 
            "metadata": {}, 
            "outputs": [
                {
                    "execution_count": 43, 
                    "metadata": {}, 
                    "data": {
                        "text/plain": "(56, 2)"
                    }, 
                    "output_type": "execute_result"
                }
            ], 
            "source": "next_rest.shape"
        }, 
        {
            "source": "Grouping the resultant data frame based on the next reataurant category group value to get the location suited to open a restaurant of a particular type", 
            "cell_type": "markdown", 
            "metadata": {}
        }, 
        {
            "execution_count": 44, 
            "cell_type": "code", 
            "metadata": {}, 
            "outputs": [
                {
                    "execution_count": 44, 
                    "metadata": {}, 
                    "data": {
                        "text/html": "<div>\n<style scoped>\n    .dataframe tbody tr th:only-of-type {\n        vertical-align: middle;\n    }\n\n    .dataframe tbody tr th {\n        vertical-align: top;\n    }\n\n    .dataframe thead th {\n        text-align: right;\n    }\n</style>\n<table border=\"1\" class=\"dataframe\">\n  <thead>\n    <tr style=\"text-align: right;\">\n      <th></th>\n      <th>Next_Rest_Cat_Group</th>\n      <th>Neighborhood</th>\n    </tr>\n  </thead>\n  <tbody>\n    <tr>\n      <th>0</th>\n      <td>Beverage Bar</td>\n      <td>Central Bay Street, Little Portugal, Trinity</td>\n    </tr>\n    <tr>\n      <th>1</th>\n      <td>Breakfast Spot</td>\n      <td>Church and Wellesley</td>\n    </tr>\n    <tr>\n      <th>2</th>\n      <td>East Asian</td>\n      <td>Bathurst Manor, Downsview North, Wilson Height...</td>\n    </tr>\n    <tr>\n      <th>3</th>\n      <td>European</td>\n      <td>Agincourt, Agincourt North, \"LAmoreaux East\", ...</td>\n    </tr>\n    <tr>\n      <th>4</th>\n      <td>Mediterranean</td>\n      <td>Commerce Court, Victoria Hotel</td>\n    </tr>\n    <tr>\n      <th>5</th>\n      <td>Molecular Gastronomy</td>\n      <td>Adelaide, King, Richmond, Ryerson, Garden Dist...</td>\n    </tr>\n    <tr>\n      <th>6</th>\n      <td>North American</td>\n      <td>Alderwood, Long Branch, Bedford Park, Lawrence...</td>\n    </tr>\n    <tr>\n      <th>7</th>\n      <td>Sandwich Place</td>\n      <td>St. James Town, Stn A PO Boxes 25 The Esplanade</td>\n    </tr>\n    <tr>\n      <th>8</th>\n      <td>Vegetarian / Vegan</td>\n      <td>Design Exchange, Toronto Dominion Centre, Firs...</td>\n    </tr>\n  </tbody>\n</table>\n</div>", 
                        "text/plain": "    Next_Rest_Cat_Group                                       Neighborhood\n0          Beverage Bar       Central Bay Street, Little Portugal, Trinity\n1        Breakfast Spot                               Church and Wellesley\n2            East Asian  Bathurst Manor, Downsview North, Wilson Height...\n3              European  Agincourt, Agincourt North, \"LAmoreaux East\", ...\n4         Mediterranean                     Commerce Court, Victoria Hotel\n5  Molecular Gastronomy  Adelaide, King, Richmond, Ryerson, Garden Dist...\n6        North American  Alderwood, Long Branch, Bedford Park, Lawrence...\n7        Sandwich Place    St. James Town, Stn A PO Boxes 25 The Esplanade\n8    Vegetarian / Vegan  Design Exchange, Toronto Dominion Centre, Firs..."
                    }, 
                    "output_type": "execute_result"
                }
            ], 
            "source": "next_loc = next_rest.groupby('Next_Rest_Cat_Group')['Neighborhood'].apply(tuple)\nnext_loc = pd.DataFrame(next_loc)\nnext_loc.reset_index(inplace=True)\nnext_loc['Neighborhood'] = next_loc['Neighborhood'].astype(str)\nnext_loc['Neighborhood'] = next_loc['Neighborhood'].str.slice(stop = -2)\nnext_loc['Neighborhood'] = next_loc['Neighborhood'].str.slice(start = 2)\nnext_loc['Neighborhood'] = next_loc['Neighborhood'].str.replace(\"'\",\"\")\nnext_loc.head(25)"
        }
    ], 
    "metadata": {
        "kernelspec": {
            "display_name": "Python 3.5", 
            "name": "python3", 
            "language": "python"
        }, 
        "language_info": {
            "mimetype": "text/x-python", 
            "nbconvert_exporter": "python", 
            "version": "3.5.5", 
            "name": "python", 
            "file_extension": ".py", 
            "pygments_lexer": "ipython3", 
            "codemirror_mode": {
                "version": 3, 
                "name": "ipython"
            }
        }
    }, 
    "nbformat": 4
}