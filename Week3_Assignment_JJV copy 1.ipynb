{
    "nbformat_minor": 1, 
    "cells": [
        {
            "source": "# Week Three Assignment - Question 2", 
            "cell_type": "markdown", 
            "metadata": {
                "collapsed": true
            }
        }, 
        {
            "source": "## Steps followed in creating the required dataframe", 
            "cell_type": "markdown", 
            "metadata": {}
        }, 
        {
            "source": "* Install all the libraries\n* Download all the modules\n* Read data from the Wikipedia Page\n* Creating BeautifulSoup object \n* Reading and coverting BeautifulSoup oject data into dataframe\n* Cleaning the data frame to remove rows with no Borough name\n* Concatenating Neighborhood names which have the same Postal Code\n* Adding Neighborhood names for rows missing the same\n* Verify final output is corrrect and also print the shape of the final dataframe\n* Reading the csv file with latitude and longitude value\n* Modify column names inorder to perform the merge\n* Merging data to create the new data set with latitude and longitude data", 
            "cell_type": "markdown", 
            "metadata": {}
        }, 
        {
            "execution_count": null, 
            "cell_type": "code", 
            "metadata": {}, 
            "outputs": [], 
            "source": "# intalling beaitifulsoup library\n!conda install -c conda-forge beautifulsoup4 --yes\n!conda install -c conda-forge lxml --yes\n!conda install -c conda-forge requests --yes\n#!conda install -c conda-forge geocoder --yes\n!conda install -c conda-forge geopy --yes "
        }, 
        {
            "execution_count": 74, 
            "cell_type": "code", 
            "metadata": {}, 
            "outputs": [], 
            "source": "# importing necessary modules\nimport requests as req\nimport pandas as pd\nimport numpy as np\nimport lxml\nfrom bs4 import BeautifulSoup"
        }, 
        {
            "execution_count": 75, 
            "cell_type": "code", 
            "metadata": {}, 
            "outputs": [], 
            "source": "# url for the wikipedia page\nurl = 'https://en.wikipedia.org/wiki/List_of_postal_codes_of_Canada:_M'\nsource = req.get(url).text"
        }, 
        {
            "execution_count": 76, 
            "cell_type": "code", 
            "metadata": {}, 
            "outputs": [], 
            "source": "# cretaing a beautifulsoup obect\nsoup = BeautifulSoup(source,'lxml')"
        }, 
        {
            "execution_count": 77, 
            "cell_type": "code", 
            "metadata": {}, 
            "outputs": [], 
            "source": "# creating & loading data into dataframe\npcode_df = pd.DataFrame()\ni = 0\nj = 0\ntable_pcode = soup.find('table')\nfor table_data in table_pcode.find_all('td'):\n    col_data = table_data.text\n    pcode_df.loc[i,j] = col_data\n    j = j + 1\n    if (j==3):\n        i = i + 1\n        j = 0"
        }, 
        {
            "execution_count": 78, 
            "cell_type": "code", 
            "metadata": {}, 
            "outputs": [], 
            "source": "# adding column names to the data frame\npcode_df.columns = ('PostalCode','Borough','Neighborhood')"
        }, 
        {
            "execution_count": 79, 
            "cell_type": "code", 
            "metadata": {}, 
            "outputs": [], 
            "source": "# removing the \\n haracter from the end of the string\npcode_df['Neighborhood'] = pcode_df['Neighborhood'].str.slice(stop = -1)"
        }, 
        {
            "execution_count": 80, 
            "cell_type": "code", 
            "metadata": {}, 
            "outputs": [], 
            "source": "# removing the rows with borough value as not assigned\npcode_df=pcode_df[pcode_df.Borough != 'Not assigned']\npcode_df = pcode_df.reset_index(drop=True)"
        }, 
        {
            "execution_count": 81, 
            "cell_type": "code", 
            "metadata": {}, 
            "outputs": [], 
            "source": "# concatenating neighborhoods with same Postal Code\nnew_df = pd.DataFrame()\nnew_df = pcode_df.groupby('PostalCode').agg({'Neighborhood':lambda x: tuple(x)})\nnew_df.reset_index(inplace=True)"
        }, 
        {
            "execution_count": 82, 
            "cell_type": "code", 
            "metadata": {}, 
            "outputs": [], 
            "source": "# converting the tuple into a string data type\nnew_df['Neighborhood'] = new_df['Neighborhood'].astype(str)"
        }, 
        {
            "execution_count": 83, 
            "cell_type": "code", 
            "metadata": {}, 
            "outputs": [], 
            "source": "#removing the end and begenning braces and the single quotes\nnew_df['Neighborhood'] = new_df['Neighborhood'].str.slice(stop = -2)\nnew_df['Neighborhood'] = new_df['Neighborhood'].str.slice(start = 2)\nnew_df['Neighborhood'] = new_df['Neighborhood'].str.replace(\"'\",\"\")"
        }, 
        {
            "execution_count": null, 
            "cell_type": "code", 
            "metadata": {}, 
            "outputs": [], 
            "source": "# creating a data frame of unique postal code and borough combination\ndf_borough = pcode_df\ndf_borough = df_borough.drop('Neighborhood',axis=1)\ndf_borough.drop_duplicates(inplace=True)\ndf_borough.reset_index(drop=True)"
        }, 
        {
            "execution_count": 85, 
            "cell_type": "code", 
            "metadata": {}, 
            "outputs": [], 
            "source": "# creation of the final data frame by combining two intermediate data frames using Postal code as key\nfinal_pcode_df = pd.DataFrame()\nfinal_pcode_df = df_borough.merge(new_df, on='PostalCode')"
        }, 
        {
            "execution_count": 86, 
            "cell_type": "code", 
            "metadata": {}, 
            "outputs": [
                {
                    "execution_count": 86, 
                    "metadata": {}, 
                    "data": {
                        "text/html": "<div>\n<style scoped>\n    .dataframe tbody tr th:only-of-type {\n        vertical-align: middle;\n    }\n\n    .dataframe tbody tr th {\n        vertical-align: top;\n    }\n\n    .dataframe thead th {\n        text-align: right;\n    }\n</style>\n<table border=\"1\" class=\"dataframe\">\n  <thead>\n    <tr style=\"text-align: right;\">\n      <th></th>\n      <th>PostalCode</th>\n      <th>Borough</th>\n      <th>Neighborhood</th>\n    </tr>\n  </thead>\n  <tbody>\n    <tr>\n      <th>0</th>\n      <td>M3A</td>\n      <td>North York</td>\n      <td>Parkwoods</td>\n    </tr>\n    <tr>\n      <th>1</th>\n      <td>M4A</td>\n      <td>North York</td>\n      <td>Victoria Village</td>\n    </tr>\n    <tr>\n      <th>2</th>\n      <td>M5A</td>\n      <td>Downtown Toronto</td>\n      <td>Harbourfront, Regent Park</td>\n    </tr>\n    <tr>\n      <th>3</th>\n      <td>M6A</td>\n      <td>North York</td>\n      <td>Lawrence Heights, Lawrence Manor</td>\n    </tr>\n    <tr>\n      <th>4</th>\n      <td>M7A</td>\n      <td>Queen's Park</td>\n      <td>Queen's Park</td>\n    </tr>\n  </tbody>\n</table>\n</div>", 
                        "text/plain": "  PostalCode           Borough                      Neighborhood\n0        M3A        North York                         Parkwoods\n1        M4A        North York                  Victoria Village\n2        M5A  Downtown Toronto         Harbourfront, Regent Park\n3        M6A        North York  Lawrence Heights, Lawrence Manor\n4        M7A      Queen's Park                      Queen's Park"
                    }, 
                    "output_type": "execute_result"
                }
            ], 
            "source": "# updating the data for rows missing Neighborhood values\nloc_Neigh_NA = final_pcode_df.Neighborhood == 'Not assigned'\nfinal_pcode_df.loc[loc_Neigh_NA,'Neighborhood'] = final_pcode_df.loc[loc_Neigh_NA,'Borough']\nfinal_pcode_df.head()"
        }, 
        {
            "execution_count": 87, 
            "cell_type": "code", 
            "metadata": {}, 
            "outputs": [
                {
                    "output_type": "stream", 
                    "name": "stdout", 
                    "text": "Shape of the Final DataFrame (103, 3)\n"
                }
            ], 
            "source": "# shape of the final dataframe\nprint('Shape of the Final DataFrame',final_pcode_df.shape)"
        }, 
        {
            "source": "Attempt with geocode was unsuccesful. Attempt with geopy was also unsuccesful. Finally used the csv file provided to complete the assignmentto get the latitude and logitude information", 
            "cell_type": "markdown", 
            "metadata": {}
        }, 
        {
            "execution_count": 91, 
            "cell_type": "code", 
            "metadata": {}, 
            "outputs": [], 
            "source": "# reading the csv file with latitude and longitude value\nlat_long_df = pd.read_csv('http://cocl.us/Geospatial_data')"
        }, 
        {
            "execution_count": 92, 
            "cell_type": "code", 
            "metadata": {}, 
            "outputs": [], 
            "source": "# modify column names inorder to perform the merge\nlat_long_df.columns = ('PostalCode','Latitude','Longitude')"
        }, 
        {
            "execution_count": 93, 
            "cell_type": "code", 
            "metadata": {}, 
            "outputs": [
                {
                    "execution_count": 93, 
                    "metadata": {}, 
                    "data": {
                        "text/html": "<div>\n<style scoped>\n    .dataframe tbody tr th:only-of-type {\n        vertical-align: middle;\n    }\n\n    .dataframe tbody tr th {\n        vertical-align: top;\n    }\n\n    .dataframe thead th {\n        text-align: right;\n    }\n</style>\n<table border=\"1\" class=\"dataframe\">\n  <thead>\n    <tr style=\"text-align: right;\">\n      <th></th>\n      <th>PostalCode</th>\n      <th>Borough</th>\n      <th>Neighborhood</th>\n      <th>Latitude</th>\n      <th>Longitude</th>\n    </tr>\n  </thead>\n  <tbody>\n    <tr>\n      <th>0</th>\n      <td>M3A</td>\n      <td>North York</td>\n      <td>Parkwoods</td>\n      <td>43.753259</td>\n      <td>-79.329656</td>\n    </tr>\n    <tr>\n      <th>1</th>\n      <td>M4A</td>\n      <td>North York</td>\n      <td>Victoria Village</td>\n      <td>43.725882</td>\n      <td>-79.315572</td>\n    </tr>\n    <tr>\n      <th>2</th>\n      <td>M5A</td>\n      <td>Downtown Toronto</td>\n      <td>Harbourfront, Regent Park</td>\n      <td>43.654260</td>\n      <td>-79.360636</td>\n    </tr>\n    <tr>\n      <th>3</th>\n      <td>M6A</td>\n      <td>North York</td>\n      <td>Lawrence Heights, Lawrence Manor</td>\n      <td>43.718518</td>\n      <td>-79.464763</td>\n    </tr>\n    <tr>\n      <th>4</th>\n      <td>M7A</td>\n      <td>Queen's Park</td>\n      <td>Queen's Park</td>\n      <td>43.662301</td>\n      <td>-79.389494</td>\n    </tr>\n    <tr>\n      <th>5</th>\n      <td>M9A</td>\n      <td>Etobicoke</td>\n      <td>Islington Avenue</td>\n      <td>43.667856</td>\n      <td>-79.532242</td>\n    </tr>\n    <tr>\n      <th>6</th>\n      <td>M1B</td>\n      <td>Scarborough</td>\n      <td>Rouge, Malvern</td>\n      <td>43.806686</td>\n      <td>-79.194353</td>\n    </tr>\n    <tr>\n      <th>7</th>\n      <td>M3B</td>\n      <td>North York</td>\n      <td>Don Mills North</td>\n      <td>43.745906</td>\n      <td>-79.352188</td>\n    </tr>\n    <tr>\n      <th>8</th>\n      <td>M4B</td>\n      <td>East York</td>\n      <td>Woodbine Gardens, Parkview Hill</td>\n      <td>43.706397</td>\n      <td>-79.309937</td>\n    </tr>\n    <tr>\n      <th>9</th>\n      <td>M5B</td>\n      <td>Downtown Toronto</td>\n      <td>Ryerson, Garden District</td>\n      <td>43.657162</td>\n      <td>-79.378937</td>\n    </tr>\n  </tbody>\n</table>\n</div>", 
                        "text/plain": "  PostalCode           Borough                      Neighborhood   Latitude  \\\n0        M3A        North York                         Parkwoods  43.753259   \n1        M4A        North York                  Victoria Village  43.725882   \n2        M5A  Downtown Toronto         Harbourfront, Regent Park  43.654260   \n3        M6A        North York  Lawrence Heights, Lawrence Manor  43.718518   \n4        M7A      Queen's Park                      Queen's Park  43.662301   \n5        M9A         Etobicoke                  Islington Avenue  43.667856   \n6        M1B       Scarborough                    Rouge, Malvern  43.806686   \n7        M3B        North York                   Don Mills North  43.745906   \n8        M4B         East York   Woodbine Gardens, Parkview Hill  43.706397   \n9        M5B  Downtown Toronto          Ryerson, Garden District  43.657162   \n\n   Longitude  \n0 -79.329656  \n1 -79.315572  \n2 -79.360636  \n3 -79.464763  \n4 -79.389494  \n5 -79.532242  \n6 -79.194353  \n7 -79.352188  \n8 -79.309937  \n9 -79.378937  "
                    }, 
                    "output_type": "execute_result"
                }
            ], 
            "source": "# merging data to create the new data set with latitude and longitude data\nfinal_lat_long_df = final_pcode_df.merge(lat_long_df , on='PostalCode')\nfinal_lat_long_df.head(10)"
        }
    ], 
    "metadata": {
        "kernelspec": {
            "display_name": "Python 3.5", 
            "name": "python3", 
            "language": "python"
        }, 
        "language_info": {
            "mimetype": "text/x-python", 
            "nbconvert_exporter": "python", 
            "version": "3.5.5", 
            "name": "python", 
            "file_extension": ".py", 
            "pygments_lexer": "ipython3", 
            "codemirror_mode": {
                "version": 3, 
                "name": "ipython"
            }
        }
    }, 
    "nbformat": 4
}