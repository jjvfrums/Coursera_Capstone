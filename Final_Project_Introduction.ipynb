{
    "nbformat_minor": 1, 
    "cells": [
        {
            "source": "# <center><B>Cuisine Vs Location</B><enter>", 
            "cell_type": "markdown", 
            "metadata": {
                "collapsed": true
            }
        }, 
        {
            "source": "### Introduction", 
            "cell_type": "markdown", 
            "metadata": {}
        }, 
        {
            "source": "## <b>Introduction</b>\n\nAs a popular saying goes - In the real estate business it is all about the location, location, and location. That is, the location of a property determines its value. A one storey, one bedroom house in Hamptons, New York, will cost more than a three storey, six bedroom house in Boise, Idaho. The same can be considered true in the Restaurant Business. For world-renowned chefs like Gordon Ramsey or Jamie Oliver, the location of their restaurant can be a secondary factor as customers usually flock to their restaurants for experiencing fine dining. But for someone who is starting out in the industry and doesn't have a reputation to rely on, the success of their endeavor will heavily depend on the location of their restaurant. Open a restaurant in a location with less foot traffic, and you won't have any customers. Open a restaurant in a location that has similar types of restaurants, then you are fighting for the customer share and trying to leave a mark of your own.\n\nThe mathematical approach described in this report provides a two-fold solution for the above-mentioned problem:\n*  At a particular location, what would be the best type of restaurant to invest in\n*  For a particular cuisine, where would the best location be to open a restaurant \n\nThis report will be of interest to two types of audience:\n*  An Investor who wants to cash in on the appeal of a location\n*  A Chef who is trained in a specific culinary style", 
            "cell_type": "markdown", 
            "metadata": {}
        }, 
        {
            "source": "## Data Used\nThis report concentrates on the city on Toronto in Ontario Province, Canada. The data sets used in this report are as mentioned below\n* <b>Toronto Neighborhood Data</b>\n  - Source - Wikipedia\n  - Data Description\n    - Postal codes allocated to Toronto City\n    - Names of the Boroughs present in each of the postal code areas\n    - Neighborhoods present in each of the boroughs\n  - Screen scrapping technique is used to read the data into a data frame.\n<br></br>    \n* <b>File Containing Latitude & Longitude Information</b>\n  - Source - File provided by the Instructor\n  - Data Description\n    - Postal codes allocated to Toronto City\n    - Latitude Information for all the postal codes\n    - Longitude Information for all the postal codes\n  - Function provided in the pandas library is used for reading the data into a data frame.\n<br></br>    \n* <b>Restaurant Information </b>\n  - Source - Foursquare Application\n  - Data Description\n    - Data obtained using a search query to identify all the Restaurants located in each Toronto neighborhood\n    - The radius for the search criteria is set at 500 meters.\n    - The search is limited to 50 restaurants per neighborhood.\n    - Venue ID, Venue Name, Venue Latitude, Venue Longitude, and Venue Category information is read from the JSON returned by the search query into a data frame.\n<br></br> \n* <b> Restaurant Rating</b>\n  - Source - Foursquare Application\n  - Data Description\n    - Data obtained using a venue details query to obtain the ratings for all the restaurants in each Toronto neighborhood\n    - Venue ID is passed as the key in the query.\n    - Rating information is read from the JSON file returned by the query and added to the data frame with the venue information.\n    ", 
            "cell_type": "markdown", 
            "metadata": {}
        }, 
        {
            "execution_count": null, 
            "cell_type": "code", 
            "metadata": {}, 
            "outputs": [], 
            "source": ""
        }
    ], 
    "metadata": {
        "kernelspec": {
            "display_name": "Python 3.5", 
            "name": "python3", 
            "language": "python"
        }, 
        "language_info": {
            "mimetype": "text/x-python", 
            "nbconvert_exporter": "python", 
            "version": "3.5.5", 
            "name": "python", 
            "file_extension": ".py", 
            "pygments_lexer": "ipython3", 
            "codemirror_mode": {
                "version": 3, 
                "name": "ipython"
            }
        }
    }, 
    "nbformat": 4
}